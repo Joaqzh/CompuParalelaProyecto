{
 "cells": [
  {
   "cell_type": "markdown",
   "id": "rEAUq2RaSj8l",
   "metadata": {
    "id": "rEAUq2RaSj8l"
   },
   "source": [
    "## 1) Librerias"
   ]
  },
  {
   "cell_type": "code",
   "execution_count": 1,
   "id": "bd0a49bd-2d70-46fd-9de0-07573758cb8d",
   "metadata": {
    "executionInfo": {
     "elapsed": 170,
     "status": "ok",
     "timestamp": 1745638464083,
     "user": {
      "displayName": "Joaquin DELGADO LORINO",
      "userId": "11788671746801639202"
     },
     "user_tz": 300
    },
    "id": "bd0a49bd-2d70-46fd-9de0-07573758cb8d"
   },
   "outputs": [],
   "source": [
    "import os\n",
    "import time\n",
    "import joblib\n",
    "import cv2 as  cv\n",
    "import numpy as np\n",
    "from PIL import Image\n",
    "from concurrent.futures import ThreadPoolExecutor\n",
    "\n",
    "from sklearn.svm import SVC\n",
    "from sklearn.metrics import accuracy_score\n",
    "from sklearn.neighbors import KNeighborsClassifier\n",
    "from sklearn.ensemble import RandomForestClassifier\n",
    "from sklearn.model_selection import train_test_split\n",
    "from sklearn.ensemble import GradientBoostingClassifier"
   ]
  },
  {
   "cell_type": "markdown",
   "id": "zazrRPrYShC1",
   "metadata": {
    "id": "zazrRPrYShC1"
   },
   "source": [
    "## 2) Lectura de imagenes"
   ]
  },
  {
   "cell_type": "markdown",
   "id": "DJV4z6wtLDtK",
   "metadata": {
    "id": "DJV4z6wtLDtK"
   },
   "source": [
    "### Métodos"
   ]
  },
  {
   "cell_type": "code",
   "execution_count": 5,
   "id": "ETg_jjAT18Tj",
   "metadata": {
    "colab": {
     "base_uri": "https://localhost:8080/"
    },
    "executionInfo": {
     "elapsed": 10,
     "status": "ok",
     "timestamp": 1745638559418,
     "user": {
      "displayName": "Joaquin DELGADO LORINO",
      "userId": "11788671746801639202"
     },
     "user_tz": 300
    },
    "id": "ETg_jjAT18Tj",
    "outputId": "f17389a2-3561-44f0-f97d-43a82371dc13"
   },
   "outputs": [
    {
     "data": {
      "text/plain": [
       "['split.py', 'test', 'train']"
      ]
     },
     "execution_count": 5,
     "metadata": {},
     "output_type": "execute_result"
    }
   ],
   "source": [
    "### COLOCARSE DENTRO DE LA CARPETA 'Data'\n",
    "#os.chdir(\"Data_CarsType\") #Data de Tipo de Carros\n",
    "os.chdir(\"Data_CatDogBird\") #Data de Gatos-Perros-Pájaro\n",
    "os.listdir()"
   ]
  },
  {
   "cell_type": "code",
   "execution_count": 7,
   "id": "1A0DB-jgN4nL",
   "metadata": {
    "executionInfo": {
     "elapsed": 5,
     "status": "ok",
     "timestamp": 1745638560334,
     "user": {
      "displayName": "Joaquin DELGADO LORINO",
      "userId": "11788671746801639202"
     },
     "user_tz": 300
    },
    "id": "1A0DB-jgN4nL"
   },
   "outputs": [],
   "source": [
    "def lecturaDeClase(clase):\n",
    "  imagenes = []\n",
    "  nombre = os.path.basename(clase)\n",
    "    \n",
    "  #Recorrer todas las imagenes\n",
    "  for d in os.listdir(clase):\n",
    "\n",
    "    #Leer imagenes\n",
    "    im = cv.imread(clase + '/' + d)\n",
    "    im = cv.cvtColor(im,cv.COLOR_BGR2RGB)\n",
    "\n",
    "    #Agregar a lista\n",
    "    imagenes.append(im)\n",
    "\n",
    "  print(f\"{nombre}: {len(imagenes)} imágenes cargadas\")\n",
    "\n",
    "  return nombre, imagenes"
   ]
  },
  {
   "cell_type": "code",
   "execution_count": 9,
   "id": "a-HvOoUFN4kt",
   "metadata": {
    "executionInfo": {
     "elapsed": 8,
     "status": "ok",
     "timestamp": 1745638560685,
     "user": {
      "displayName": "Joaquin DELGADO LORINO",
      "userId": "11788671746801639202"
     },
     "user_tz": 300
    },
    "id": "a-HvOoUFN4kt"
   },
   "outputs": [],
   "source": [
    "def cargarClasesParalelizado(direc):\n",
    "  #Obtener lista de carpetas de clases\n",
    "  carpetas = [os.path.join(direc, nombre) for nombre in os.listdir(direc) if os.path.isdir(os.path.join(direc, nombre))]\n",
    "\n",
    "  #Diccionario donde guardar {Clase: [imagenes]}\n",
    "  imagenesClase = {}\n",
    "\n",
    "  #Paralelizar carga de imágenes por cada clase\n",
    "  with ThreadPoolExecutor() as executor:\n",
    "    resultados = executor.map(lecturaDeClase, carpetas)\n",
    "\n",
    "  #Juntar resultados\n",
    "  for clase, imagenes in resultados:\n",
    "    imagenesClase[clase] = imagenes\n",
    "\n",
    "  return imagenesClase"
   ]
  },
  {
   "cell_type": "code",
   "execution_count": 11,
   "id": "GrfOt4B6N4iU",
   "metadata": {
    "executionInfo": {
     "elapsed": 2,
     "status": "ok",
     "timestamp": 1745638561556,
     "user": {
      "displayName": "Joaquin DELGADO LORINO",
      "userId": "11788671746801639202"
     },
     "user_tz": 300
    },
    "id": "GrfOt4B6N4iU"
   },
   "outputs": [],
   "source": [
    "def cargarClasesSecuencial(direc):\n",
    "  #Obtener lista de carpetas de clases\n",
    "  carpetas = [os.path.join(direc, nombre) for nombre in os.listdir(direc) if os.path.isdir(os.path.join(direc, nombre))]\n",
    "\n",
    "  #Diccionario donde guardar {Clase: [imagenes]}\n",
    "  imagenesClase = {}\n",
    "\n",
    "  #Cargar imágenes de manera secuencial\n",
    "  for d in carpetas:\n",
    "    clase, imagenes = lecturaDeClase(d)\n",
    "    imagenesClase[clase] = imagenes\n",
    "\n",
    "  return imagenesClase"
   ]
  },
  {
   "cell_type": "markdown",
   "id": "m7Yuzyx7LFKz",
   "metadata": {
    "id": "m7Yuzyx7LFKz"
   },
   "source": [
    "### Implementación"
   ]
  },
  {
   "cell_type": "code",
   "execution_count": 14,
   "id": "rFdGQ3MTOcyM",
   "metadata": {
    "colab": {
     "base_uri": "https://localhost:8080/"
    },
    "id": "rFdGQ3MTOcyM",
    "outputId": "6117e3a1-f8fd-4747-8f8b-74e0cfbea565"
   },
   "outputs": [
    {
     "name": "stdout",
     "output_type": "stream",
     "text": [
      "bird: 1245 imágenes cargadas\n",
      "cat: 1205 imágenes cargadas\n",
      "dog: 1554 imágenes cargadas\n",
      "\n",
      "Tiempo total de ejecución Secuencial: 108.8074 segundos\n"
     ]
    }
   ],
   "source": [
    "inicio_S = time.time()\n",
    "\n",
    "imagenes_dict = cargarClasesSecuencial(\"train\")\n",
    "\n",
    "fin_S = time.time()\n",
    "tiempo_total_S = fin_S - inicio_S\n",
    "\n",
    "print(f\"\\nTiempo total de ejecución Secuencial: {tiempo_total_S:.4f} segundos\")"
   ]
  },
  {
   "cell_type": "code",
   "execution_count": 13,
   "id": "e114e2f1-e06f-4c4a-8067-f05ca5c91c59",
   "metadata": {
    "colab": {
     "base_uri": "https://localhost:8080/"
    },
    "executionInfo": {
     "elapsed": 58757,
     "status": "ok",
     "timestamp": 1745627221474,
     "user": {
      "displayName": "Joaquin DELGADO LORINO",
      "userId": "11788671746801639202"
     },
     "user_tz": 300
    },
    "id": "e114e2f1-e06f-4c4a-8067-f05ca5c91c59",
    "outputId": "8a22d00e-ff79-42a5-de1f-7ecf55daba56"
   },
   "outputs": [
    {
     "name": "stdout",
     "output_type": "stream",
     "text": [
      "bird: 1245 imágenes cargadas\n",
      "cat: 1205 imágenes cargadas\n",
      "dog: 1554 imágenes cargadas\n",
      "\n",
      "Tiempo total de ejecución Paralelo: 50.6190 segundos\n"
     ]
    }
   ],
   "source": [
    "# Llamar la función\n",
    "inicio_P = time.time()\n",
    "imagenes_dict = cargarClasesParalelizado(\"train\")\n",
    "\n",
    "fin_P = time.time()\n",
    "tiempo_total_P = fin_P - inicio_P\n",
    "\n",
    "print(f\"\\nTiempo total de ejecución Paralelo: {tiempo_total_P:.4f} segundos\")"
   ]
  },
  {
   "cell_type": "markdown",
   "id": "BJ2ISe64SxG9",
   "metadata": {
    "id": "BJ2ISe64SxG9"
   },
   "source": [
    "## 3) Extracción de Características"
   ]
  },
  {
   "cell_type": "markdown",
   "id": "gzWUpbLMK-uz",
   "metadata": {
    "id": "gzWUpbLMK-uz"
   },
   "source": [
    "### Métodos"
   ]
  },
  {
   "cell_type": "code",
   "execution_count": 16,
   "id": "35Y-3XmRS0Go",
   "metadata": {
    "id": "35Y-3XmRS0Go"
   },
   "outputs": [],
   "source": [
    "def vectorCaracteristicoSIFT(img):\n",
    "  #Crear sift\n",
    "  sift = cv.SIFT_create()\n",
    "\n",
    "  #Obtener puntos claves y descriptores\n",
    "  keypoints, descriptors = sift.detectAndCompute(img, None)\n",
    "\n",
    "  #Vector Característico\n",
    "  vec = np.mean(descriptors, axis = 0)\n",
    "\n",
    "  return vec"
   ]
  },
  {
   "cell_type": "code",
   "execution_count": 17,
   "id": "RZ1pZaeYS3mo",
   "metadata": {
    "id": "RZ1pZaeYS3mo"
   },
   "outputs": [],
   "source": [
    "def vectorCaracteristicoHOG(img):\n",
    "    # Crear el descriptor HOG y utilizar el clasificador preentrenado para detección de personas\n",
    "    hog = cv.HOGDescriptor()\n",
    "    hog.setSVMDetector(cv.HOGDescriptor_getDefaultPeopleDetector())\n",
    "\n",
    "    #Reescala las imagenes\n",
    "    img_resized = cv.resize(img, (128,128))\n",
    "\n",
    "    # Calcular el vector HOG\n",
    "    vector_hog = hog.compute(img_resized)\n",
    "\n",
    "    # Aplanar el vector HOG\n",
    "    vector_hog = np.ravel(vector_hog)\n",
    "\n",
    "    return vector_hog"
   ]
  },
  {
   "cell_type": "code",
   "execution_count": 18,
   "id": "rQhcUVg1TDRo",
   "metadata": {
    "id": "rQhcUVg1TDRo"
   },
   "outputs": [],
   "source": [
    "def vectorCaracteristicoResultante(clase, tipo):\n",
    "  VCR = []\n",
    "\n",
    "  #Navegar por las imágenes de la clase\n",
    "  for img in clase:\n",
    "      #Extraccion de Vectores característicos de cada imagen\n",
    "      if tipo == 'SIFT':\n",
    "        VC = vectorCaracteristicoSIFT(img)\n",
    "      elif tipo == 'HOG':\n",
    "        VC = vectorCaracteristicoHOG(img)\n",
    "\n",
    "      #Concatenar los vectores característicos\n",
    "      VCR.append(VC)\n",
    "\n",
    "  return VCR"
   ]
  },
  {
   "cell_type": "code",
   "execution_count": 19,
   "id": "nlR3drVHTrxl",
   "metadata": {
    "id": "nlR3drVHTrxl"
   },
   "outputs": [],
   "source": [
    "def vectoresCaracteristicosParalelizado(diccionario, tipo):\n",
    "  vCaracteristicoClase = {}\n",
    "\n",
    "  with ThreadPoolExecutor() as executor:\n",
    "  # Creamos una lista de tareas por clase\n",
    "    futuras = {\n",
    "      executor.submit(vectorCaracteristicoResultante, imagenes, tipo): clase\n",
    "      for clase, imagenes in diccionario.items()\n",
    "    }\n",
    "\n",
    "    # Recolectamos resultados\n",
    "    for futuro in futuras:\n",
    "      clase = futuras[futuro]\n",
    "      resultado = futuro.result()\n",
    "      vCaracteristicoClase[clase] = resultado\n",
    "\n",
    "  return vCaracteristicoClase\n",
    "\n",
    "def vectoresCaracteristicosSecuencial(diccionario, tipo):\n",
    "  vCaracteristicoClase = {}\n",
    "\n",
    "  for clase, imagenes in diccionario.items():\n",
    "    vCaracteristicoClase[clase] = vectorCaracteristicoResultante(imagenes, tipo)\n",
    "\n",
    "  return vCaracteristicoClase"
   ]
  },
  {
   "cell_type": "markdown",
   "id": "2s-VVU7GLA7V",
   "metadata": {
    "id": "2s-VVU7GLA7V"
   },
   "source": [
    "### Implementacion"
   ]
  },
  {
   "cell_type": "code",
   "execution_count": 23,
   "id": "cAW-5kE2Te7W",
   "metadata": {
    "colab": {
     "background_save": true,
     "base_uri": "https://localhost:8080/"
    },
    "executionInfo": {
     "elapsed": 332767,
     "status": "ok",
     "timestamp": 1745629111872,
     "user": {
      "displayName": "Joaquin DELGADO LORINO",
      "userId": "11788671746801639202"
     },
     "user_tz": 300
    },
    "id": "cAW-5kE2Te7W",
    "outputId": "bb7ddd2d-3905-4cb2-9d6f-74837637893f"
   },
   "outputs": [
    {
     "ename": "KeyboardInterrupt",
     "evalue": "",
     "output_type": "error",
     "traceback": [
      "\u001b[1;31m---------------------------------------------------------------------------\u001b[0m",
      "\u001b[1;31mKeyboardInterrupt\u001b[0m                         Traceback (most recent call last)",
      "Cell \u001b[1;32mIn[23], line 3\u001b[0m\n\u001b[0;32m      1\u001b[0m inicio_S \u001b[38;5;241m=\u001b[39m time\u001b[38;5;241m.\u001b[39mtime()\n\u001b[1;32m----> 3\u001b[0m vCaracteristicos_dict_SIFT \u001b[38;5;241m=\u001b[39m vectoresCaracteristicosSecuencial(imagenes_dict, \u001b[38;5;124m'\u001b[39m\u001b[38;5;124mSIFT\u001b[39m\u001b[38;5;124m'\u001b[39m)\n\u001b[0;32m      4\u001b[0m vCaracteristicos_dict_HOG \u001b[38;5;241m=\u001b[39m vectoresCaracteristicosSecuencial(imagenes_dict, \u001b[38;5;124m'\u001b[39m\u001b[38;5;124mHOG\u001b[39m\u001b[38;5;124m'\u001b[39m)\n\u001b[0;32m      6\u001b[0m fin_S \u001b[38;5;241m=\u001b[39m time\u001b[38;5;241m.\u001b[39mtime()\n",
      "Cell \u001b[1;32mIn[21], line 23\u001b[0m, in \u001b[0;36mvectoresCaracteristicosSecuencial\u001b[1;34m(diccionario, tipo)\u001b[0m\n\u001b[0;32m     20\u001b[0m vCaracteristicoClase \u001b[38;5;241m=\u001b[39m {}\n\u001b[0;32m     22\u001b[0m \u001b[38;5;28;01mfor\u001b[39;00m clase, imagenes \u001b[38;5;129;01min\u001b[39;00m diccionario\u001b[38;5;241m.\u001b[39mitems():\n\u001b[1;32m---> 23\u001b[0m   vCaracteristicoClase[clase] \u001b[38;5;241m=\u001b[39m vectorCaracteristicoResultante(imagenes, tipo)\n\u001b[0;32m     25\u001b[0m \u001b[38;5;28;01mreturn\u001b[39;00m vCaracteristicoClase\n",
      "Cell \u001b[1;32mIn[20], line 8\u001b[0m, in \u001b[0;36mvectorCaracteristicoResultante\u001b[1;34m(clase, tipo)\u001b[0m\n\u001b[0;32m      5\u001b[0m \u001b[38;5;28;01mfor\u001b[39;00m img \u001b[38;5;129;01min\u001b[39;00m clase:\n\u001b[0;32m      6\u001b[0m     \u001b[38;5;66;03m#Extraccion de Vectores característicos de cada imagen\u001b[39;00m\n\u001b[0;32m      7\u001b[0m     \u001b[38;5;28;01mif\u001b[39;00m tipo \u001b[38;5;241m==\u001b[39m \u001b[38;5;124m'\u001b[39m\u001b[38;5;124mSIFT\u001b[39m\u001b[38;5;124m'\u001b[39m:\n\u001b[1;32m----> 8\u001b[0m       VC \u001b[38;5;241m=\u001b[39m vectorCaracteristicoSIFT(img)\n\u001b[0;32m      9\u001b[0m     \u001b[38;5;28;01melif\u001b[39;00m tipo \u001b[38;5;241m==\u001b[39m \u001b[38;5;124m'\u001b[39m\u001b[38;5;124mHOG\u001b[39m\u001b[38;5;124m'\u001b[39m:\n\u001b[0;32m     10\u001b[0m       VC \u001b[38;5;241m=\u001b[39m vectorCaracteristicoHOG(img)\n",
      "Cell \u001b[1;32mIn[18], line 6\u001b[0m, in \u001b[0;36mvectorCaracteristicoSIFT\u001b[1;34m(img)\u001b[0m\n\u001b[0;32m      3\u001b[0m sift \u001b[38;5;241m=\u001b[39m cv\u001b[38;5;241m.\u001b[39mSIFT_create()\n\u001b[0;32m      5\u001b[0m \u001b[38;5;66;03m#Obtener puntos claves y descriptores\u001b[39;00m\n\u001b[1;32m----> 6\u001b[0m keypoints, descriptors \u001b[38;5;241m=\u001b[39m sift\u001b[38;5;241m.\u001b[39mdetectAndCompute(img, \u001b[38;5;28;01mNone\u001b[39;00m)\n\u001b[0;32m      8\u001b[0m \u001b[38;5;66;03m#Vector Característico\u001b[39;00m\n\u001b[0;32m      9\u001b[0m vec \u001b[38;5;241m=\u001b[39m np\u001b[38;5;241m.\u001b[39mmean(descriptors, axis \u001b[38;5;241m=\u001b[39m \u001b[38;5;241m0\u001b[39m)\n",
      "\u001b[1;31mKeyboardInterrupt\u001b[0m: "
     ]
    }
   ],
   "source": [
    "inicio_S = time.time()\n",
    "\n",
    "vCaracteristicos_dict_SIFT = vectoresCaracteristicosSecuencial(imagenes_dict, 'SIFT')\n",
    "vCaracteristicos_dict_HOG = vectoresCaracteristicosSecuencial(imagenes_dict, 'HOG')\n",
    "\n",
    "fin_S = time.time()\n",
    "tiempo_total_S = fin_S - inicio_S\n",
    "\n",
    "print(f\"\\nTiempo total de ejecución Secuencial: {tiempo_total_S:.4f} segundos\")"
   ]
  },
  {
   "cell_type": "code",
   "execution_count": null,
   "id": "LZTfrGKWlVoY",
   "metadata": {
    "colab": {
     "base_uri": "https://localhost:8080/"
    },
    "executionInfo": {
     "elapsed": 329297,
     "status": "ok",
     "timestamp": 1745629894212,
     "user": {
      "displayName": "Joaquin DELGADO LORINO",
      "userId": "11788671746801639202"
     },
     "user_tz": 300
    },
    "id": "LZTfrGKWlVoY",
    "outputId": "e35daf82-b47c-4972-f321-470a7e7ba30d"
   },
   "outputs": [],
   "source": [
    "#PARALELIZADO\n",
    "inicio_P = time.time()\n",
    "\n",
    "vCaracteristicos_dict_SIFT = vectoresCaracteristicosParalelizado(imagenes_dict, 'SIFT')\n",
    "vCaracteristicos_dict_HOG = vectoresCaracteristicosParalelizado(imagenes_dict, 'HOG')\n",
    "\n",
    "fin_P = time.time()\n",
    "tiempo_total_P = fin_P - inicio_P\n",
    "\n",
    "print(f\"\\nTiempo total de ejecución Paralelo: {tiempo_total_P:.4f} segundos\")"
   ]
  },
  {
   "cell_type": "markdown",
   "id": "b3aff050-5969-4135-8a86-1b4f7a7fe89d",
   "metadata": {},
   "source": [
    "## 4) Entrenamiento"
   ]
  },
  {
   "cell_type": "code",
   "execution_count": 97,
   "id": "362de3f7-08cc-4fa0-8e24-42674e3d4603",
   "metadata": {},
   "outputs": [],
   "source": [
    "# Convertimos a listas X (features) y y (labels)\n",
    "X = []\n",
    "y = []\n",
    "\n",
    "for clase, vectores in vCaracteristicos_dict_SIFT.items():\n",
    "    X.extend(vectores)\n",
    "    y.extend([clase] * len(vectores))\n",
    "\n",
    "X_train, X_test, y_train, y_test = train_test_split(X, y, test_size=0.2, random_state=42)"
   ]
  },
  {
   "cell_type": "code",
   "execution_count": 99,
   "id": "80e2930d-2a50-41d4-9ccf-13b16e746268",
   "metadata": {
    "scrolled": true
   },
   "outputs": [
    {
     "name": "stdout",
     "output_type": "stream",
     "text": [
      "Accuracy: 0.24\n"
     ]
    }
   ],
   "source": [
    "# Entrenamos el modelo\n",
    "knn = KNeighborsClassifier(n_neighbors=3)\n",
    "knn.fit(X_train, y_train)\n",
    "\n",
    "y_pred = knn.predict(X_test)\n",
    "\n",
    "print(f'Accuracy: {accuracy_score(y_test, y_pred):.2f}')"
   ]
  },
  {
   "cell_type": "code",
   "execution_count": 101,
   "id": "ec78d928-757e-4634-8ef1-67cc3e7c9ebf",
   "metadata": {},
   "outputs": [
    {
     "name": "stdout",
     "output_type": "stream",
     "text": [
      "Accuracy: 0.32\n"
     ]
    }
   ],
   "source": [
    "svc = SVC(kernel='linear')  # O puedes usar 'rbf' si prefieres kernel radial\n",
    "svc.fit(X_train, y_train)\n",
    "\n",
    "y_pred = svc.predict(X_test)\n",
    "\n",
    "print(f'Accuracy: {accuracy_score(y_test, y_pred):.2f}')"
   ]
  },
  {
   "cell_type": "code",
   "execution_count": 107,
   "id": "4e96a12b-1d3c-40f0-8c59-654d55a60ba6",
   "metadata": {},
   "outputs": [
    {
     "name": "stdout",
     "output_type": "stream",
     "text": [
      "Accuracy: 0.33\n"
     ]
    }
   ],
   "source": [
    "gbm = GradientBoostingClassifier(n_estimators=100, learning_rate=0.1, max_depth=3)\n",
    "gbm.fit(X_train, y_train)\n",
    "\n",
    "y_pred = gbm.predict(X_test)\n",
    "\n",
    "print(f'Accuracy: {accuracy_score(y_test, y_pred):.2f}')"
   ]
  },
  {
   "cell_type": "code",
   "execution_count": 108,
   "id": "8141f6be-c916-4afc-aee5-fab4f1bb5bfb",
   "metadata": {},
   "outputs": [
    {
     "name": "stdout",
     "output_type": "stream",
     "text": [
      "Accuracy: 0.33\n"
     ]
    }
   ],
   "source": [
    "rfc = RandomForestClassifier(n_estimators=100, max_depth=None, random_state=42)\n",
    "rfc.fit(X_train, y_train)\n",
    "\n",
    "y_pred = rfc.predict(X_test)\n",
    "\n",
    "print(f'Accuracy: {accuracy_score(y_test, y_pred):.2f}')"
   ]
  },
  {
   "cell_type": "markdown",
   "id": "905a11c1-9aaf-4696-bd2f-85ec2154b606",
   "metadata": {},
   "source": [
    "## 5) Pruebas"
   ]
  },
  {
   "cell_type": "code",
   "execution_count": 187,
   "id": "da546caa-f6dd-4889-baf2-4c332f5425a8",
   "metadata": {},
   "outputs": [
    {
     "name": "stdout",
     "output_type": "stream",
     "text": [
      "Predicción: train\\Pick-Up\n"
     ]
    }
   ],
   "source": [
    "im = cv.imread(\"test\\\\Convertible\\\\11_jpg.rf.ea923c3a0ff80e933d12bfb74b350e06.jpg\")\n",
    "im = cv.cvtColor(im,cv.COLOR_BGR2RGB)\n",
    "\n",
    "vector = vectorCaracteristicoSIFT(im)\n",
    "prediccion = svc.predict([vector])\n",
    "print(f'Predicción: {prediccion[0]}')"
   ]
  },
  {
   "cell_type": "markdown",
   "id": "a4925b17-7171-43de-9d47-5339fb3a35e9",
   "metadata": {},
   "source": [
    "## 6) Guardar Modelos"
   ]
  },
  {
   "cell_type": "code",
   "execution_count": 185,
   "id": "d3ac145d-706d-491b-9300-b9d58562d07a",
   "metadata": {},
   "outputs": [
    {
     "name": "stdout",
     "output_type": "stream",
     "text": [
      "Guardados\n"
     ]
    }
   ],
   "source": [
    "joblib.dump(knn, 'Modelos/knn_model.pkl')\n",
    "joblib.dump(svc, 'Modelos/svc_model.pkl')\n",
    "joblib.dump(gbm, 'Modelos/gbm_model.pkl')\n",
    "joblib.dump(rfc, 'Modelos/random_forest_model.pkl')\n",
    "\n",
    "print(\"Guardados\")"
   ]
  },
  {
   "cell_type": "code",
   "execution_count": 189,
   "id": "49d5736b-0063-4422-a554-88629bf587fc",
   "metadata": {},
   "outputs": [
    {
     "name": "stdout",
     "output_type": "stream",
     "text": [
      "Predicción: train\\Pick-Up\n"
     ]
    }
   ],
   "source": [
    "knn_loaded = joblib.load('../Modelos/knn_model.pkl')\n",
    "\n",
    "im = cv.imread(\"test\\\\Convertible\\\\11_jpg.rf.ea923c3a0ff80e933d12bfb74b350e06.jpg\")\n",
    "im = cv.cvtColor(im,cv.COLOR_BGR2RGB)\n",
    "\n",
    "vector = vectorCaracteristicoSIFT(im)\n",
    "\n",
    "y_pred = knn_loaded.predict(X_test)\n",
    "print(f'Predicción: {prediccion[0]}')"
   ]
  },
  {
   "cell_type": "code",
   "execution_count": null,
   "id": "5482f6b5-ec0d-4733-83ac-133196ae057d",
   "metadata": {},
   "outputs": [],
   "source": []
  }
 ],
 "metadata": {
  "colab": {
   "provenance": []
  },
  "kernelspec": {
   "display_name": "Python 3 (ipykernel)",
   "language": "python",
   "name": "python3"
  },
  "language_info": {
   "codemirror_mode": {
    "name": "ipython",
    "version": 3
   },
   "file_extension": ".py",
   "mimetype": "text/x-python",
   "name": "python",
   "nbconvert_exporter": "python",
   "pygments_lexer": "ipython3",
   "version": "3.12.4"
  }
 },
 "nbformat": 4,
 "nbformat_minor": 5
}
